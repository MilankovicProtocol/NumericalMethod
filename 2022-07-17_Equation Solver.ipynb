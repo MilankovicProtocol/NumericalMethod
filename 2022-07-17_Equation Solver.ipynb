{
 "cells": [
  {
   "cell_type": "code",
   "execution_count": 1,
   "id": "a72f7b6b",
   "metadata": {},
   "outputs": [],
   "source": [
    "# Importing the relevant libraries\n",
    "import numpy             as np\n",
    "import matplotlib.pyplot as plt"
   ]
  },
  {
   "cell_type": "code",
   "execution_count": 2,
   "id": "78752855",
   "metadata": {},
   "outputs": [],
   "source": [
    "# Defining the left-hand side and right-hand side of the equation\n",
    "def left(x) :\n",
    "    return x**2\n",
    "\n",
    "def right(x):\n",
    "    return x + 12\n",
    "\n",
    "# Making sure one of the sides equal zero\n",
    "def f(x):\n",
    "    return left(x) - right(x)"
   ]
  },
  {
   "cell_type": "code",
   "execution_count": 3,
   "id": "1ad6a28e",
   "metadata": {},
   "outputs": [],
   "source": [
    "# Seeking the solution of the equation, implementing the Secant Method. Firstly, define two initial values of x\n",
    "x0 = 1\n",
    "x1 = 2"
   ]
  },
  {
   "cell_type": "code",
   "execution_count": 4,
   "id": "62f01c99",
   "metadata": {},
   "outputs": [],
   "source": [
    "# Select the tolerance, lower tolerance lead to higher accuracy\n",
    "tolerance = 0.000000000001\n",
    "error     = 1\n",
    "\n",
    "# Secant iterative method\n",
    "while np.absolute(error) > tolerance:\n",
    "        x2       = x1 - (f(x1))*(x1 - x0)/((f(x1)) - (f(x0)))\n",
    "        error    = f(x2)\n",
    "        x0 = x1\n",
    "        x1 = x2"
   ]
  },
  {
   "cell_type": "code",
   "execution_count": 9,
   "id": "082a38b2",
   "metadata": {},
   "outputs": [
    {
     "data": {
      "image/png": "[encoded data removed]",
      "text/plain": [
       "<Figure size 432x288 with 1 Axes>"
      ]
     },
     "metadata": {
      "needs_background": "light"
     },
     "output_type": "display_data"
    }
   ],
   "source": [
    "# Plotting the solution\n",
    "x = np.linspace   (x2 - 5,x2 + 5,1000)\n",
    "plt.title         ('Solution')\n",
    "plt.plot          (x, f(x), label = \"f(x)\")\n",
    "plt.axhline       (color = 'red', label = \"x = 0\")\n",
    "plt.plot          (x2, 0,'ro', label = (np.round(x2,4), np.round(f(x2), 4)))\n",
    "plt.legend        ()\n",
    "plt.show          ()"
   ]
  }
 ],
 "metadata": {
  "kernelspec": {
   "display_name": "Python 3 (ipykernel)",
   "language": "python",
   "name": "python3"
  },
  "language_info": {
   "codemirror_mode": {
    "name": "ipython",
    "version": 3
   },
   "file_extension": ".py",
   "mimetype": "text/x-python",
   "name": "python",
   "nbconvert_exporter": "python",
   "pygments_lexer": "ipython3",
   "version": "3.10.5"
  }
 },
 "nbformat": 4,
 "nbformat_minor": 5
}
