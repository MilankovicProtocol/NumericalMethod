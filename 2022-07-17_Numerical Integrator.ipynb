{
 "cells": [
  {
   "cell_type": "code",
   "execution_count": 1,
   "id": "24aeda8d",
   "metadata": {},
   "outputs": [],
   "source": [
    "# Importing the relevant libraries\n",
    "import pandas            as pd\n",
    "import numpy             as np\n",
    "import matplotlib.pyplot as plt"
   ]
  },
  {
   "cell_type": "code",
   "execution_count": 2,
   "id": "d9456e25",
   "metadata": {},
   "outputs": [],
   "source": [
    "# Defining the function which will be integrated\n",
    "def f(x):\n",
    "    return x**2 + x + np.log(x)\n",
    "\n",
    "# Setting the lower (a) and upper (b) boundaries of the integration\n",
    "a = 9\n",
    "b = 12"
   ]
  },
  {
   "cell_type": "code",
   "execution_count": 3,
   "id": "12deb001",
   "metadata": {},
   "outputs": [],
   "source": [
    "# Implementing the trapezoid method, firstly define the segment count (n_trapezoid), must be a whole number\n",
    "# Higher segment count translates to better accuracy\n",
    "n_trapezoid = 3000001\n",
    "\n",
    "# Defining the interval (h_trapezoid)\n",
    "h_trapezoid = (b - a)/n_trapezoid\n",
    "\n",
    "# Iteration index and variable to calculate the integration results\n",
    "i_trapezoid     = 1\n",
    "trapezoid_total = 0\n",
    "\n",
    "# The loop\n",
    "while i_trapezoid != n_trapezoid:\n",
    "      i_trapezoid     += 1\n",
    "      trapezoid_total += 0.5 * h_trapezoid * (f(a + (i_trapezoid - 2)*h_trapezoid) + f(a + (i_trapezoid - 1)*h_trapezoid))"
   ]
  },
  {
   "cell_type": "code",
   "execution_count": 4,
   "id": "02eb99c9",
   "metadata": {},
   "outputs": [],
   "source": [
    "# Implementing 1/3 Simpson method, firstly define the number of points (n_onethird), must be an odd number greater than 1.\n",
    "# Higher segment count translates to better accuracy\n",
    "n_onethird = 3000001\n",
    "\n",
    "if n_onethird % 2 == 0:\n",
    "   print('Calculation not possible, select valid number of points')\n",
    "else:\n",
    "# Defining the interval (h_onethird)\n",
    "   h_onethird     = (b - a)/n_onethird\n",
    "\n",
    "# Iteration index and variable to calculate the integration results\n",
    "   i_onethird     = 0\n",
    "   onethird_total = 0\n",
    "\n",
    "# The loop\n",
    "   while i_onethird <= n_onethird:\n",
    "         if   i_onethird == 0 or i_onethird == n_onethird:\n",
    "            onethird_total += (h_onethird/3)* f(a + i_onethird*h_onethird)\n",
    "            i_onethird     += 1\n",
    "         elif i_onethird % 2 == 0:\n",
    "            onethird_total += (h_onethird/3)* 2 * f(a + i_onethird*h_onethird)\n",
    "            i_onethird     += 1\n",
    "         else:\n",
    "            onethird_total += (h_onethird/3)* 4 * f(a + i_onethird*h_onethird)\n",
    "            i_onethird     += 1"
   ]
  },
  {
   "cell_type": "code",
   "execution_count": 5,
   "id": "a47343e1",
   "metadata": {},
   "outputs": [],
   "source": [
    "# Implementing 3/8 Simpson method, firstly define the number of points (n_threeeighths), must be within the sequence 4,7,10,...\n",
    "# Higher segment count translates to better accuracy\n",
    "n_threeeights = 3000001\n",
    "\n",
    "if n_threeeights % 3 != 1:\n",
    "   print('Calculation not possible, select valid number of points')\n",
    "else:\n",
    "# Defining the interval (h_threeeights)\n",
    "   h_threeeights     = (b - a)/n_threeeights\n",
    "\n",
    "# Iteration index and variable to calculate the integration results\n",
    "   i_threeeights     = 0\n",
    "   threeeights_total = 0\n",
    "\n",
    "# The loop\n",
    "   while i_threeeights <= n_threeeights:\n",
    "         if   i_threeeights == 0 or i_threeeights == n_threeeights:\n",
    "            threeeights_total += (h_threeeights*3/8)* f(a + i_threeeights*h_threeeights)\n",
    "            i_threeeights     += 1\n",
    "         elif i_threeeights % 3 == 0:\n",
    "            threeeights_total += (h_threeeights*3/8)* 2 * f(a + i_threeeights*h_threeeights)\n",
    "            i_threeeights     += 1\n",
    "         else:\n",
    "            threeeights_total += (h_threeeights*3/8)* 3 * f(a + i_threeeights*h_threeeights)\n",
    "            i_threeeights     += 1"
   ]
  },
  {
   "cell_type": "code",
   "execution_count": 6,
   "id": "36347814",
   "metadata": {},
   "outputs": [
    {
     "data": {
      "image/png": "[encoded data removed]",
      "text/plain": [
       "<Figure size 432x288 with 1 Axes>"
      ]
     },
     "metadata": {
      "needs_background": "light"
     },
     "output_type": "display_data"
    },
    {
     "data": {
      "text/html": [
       "<div>\n",
       "<style scoped>\n",
       "    .dataframe tbody tr th:only-of-type {\n",
       "        vertical-align: middle;\n",
       "    }\n",
       "\n",
       "    .dataframe tbody tr th {\n",
       "        vertical-align: top;\n",
       "    }\n",
       "\n",
       "    .dataframe thead th {\n",
       "        text-align: right;\n",
       "    }\n",
       "</style>\n",
       "<table border=\"1\" class=\"dataframe\">\n",
       "  <thead>\n",
       "    <tr style=\"text-align: right;\">\n",
       "      <th></th>\n",
       "      <th>Segment Count</th>\n",
       "      <th>Result</th>\n",
       "    </tr>\n",
       "    <tr>\n",
       "      <th>Method</th>\n",
       "      <th></th>\n",
       "      <th></th>\n",
       "    </tr>\n",
       "  </thead>\n",
       "  <tbody>\n",
       "    <tr>\n",
       "      <th>Trapezoid</th>\n",
       "      <td>3000001</td>\n",
       "      <td>371.543700</td>\n",
       "    </tr>\n",
       "    <tr>\n",
       "      <th>Simpson 1/3</th>\n",
       "      <td>3000001</td>\n",
       "      <td>371.543806</td>\n",
       "    </tr>\n",
       "    <tr>\n",
       "      <th>Simpson 3/8</th>\n",
       "      <td>3000001</td>\n",
       "      <td>371.543819</td>\n",
       "    </tr>\n",
       "  </tbody>\n",
       "</table>\n",
       "</div>"
      ],
      "text/plain": [
       "             Segment Count      Result\n",
       "Method                                \n",
       "Trapezoid          3000001  371.543700\n",
       "Simpson 1/3        3000001  371.543806\n",
       "Simpson 3/8        3000001  371.543819"
      ]
     },
     "execution_count": 6,
     "metadata": {},
     "output_type": "execute_result"
    }
   ],
   "source": [
    "# Displaying the graph and integration results\n",
    "x = np.linspace   (a, b, max(n_threeeights,n_trapezoid,n_onethird))\n",
    "plt.title         ('Integration area')\n",
    "plt.plot          (x, f(x))\n",
    "plt.axhline       (color = 'black')\n",
    "plt.fill_between  (x, f(x), where = [ x > a and x < b for x in x ], color = 'blue')\n",
    "plt.show          ()\n",
    "\n",
    "data = {'Method'       : ['Trapezoid', 'Simpson 1/3', 'Simpson 3/8'],\n",
    "        'Segment Count': [n_trapezoid, n_onethird, n_threeeights],\n",
    "        'Result'       : [trapezoid_total, onethird_total, threeeights_total]}\n",
    "df   = pd.DataFrame(data).set_index('Method')\n",
    "df"
   ]
  }
 ],
 "metadata": {
  "kernelspec": {
   "display_name": "Python 3 (ipykernel)",
   "language": "python",
   "name": "python3"
  },
  "language_info": {
   "codemirror_mode": {
    "name": "ipython",
    "version": 3
   },
   "file_extension": ".py",
   "mimetype": "text/x-python",
   "name": "python",
   "nbconvert_exporter": "python",
   "pygments_lexer": "ipython3",
   "version": "3.10.5"
  }
 },
 "nbformat": 4,
 "nbformat_minor": 5
}
